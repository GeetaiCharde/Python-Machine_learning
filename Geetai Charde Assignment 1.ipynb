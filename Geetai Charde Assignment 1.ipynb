{
 "cells": [
  {
   "cell_type": "code",
   "execution_count": 8,
   "id": "2b24f940",
   "metadata": {},
   "outputs": [
    {
     "name": "stdout",
     "output_type": "stream",
     "text": [
      "\n",
      "Name : Geetai P. Charde\n",
      "City : Amravati\n",
      "Branch : Electronics and Telecommunication\n",
      "College : Vishavakarma Institute of Technology, Pune\n",
      "SGPA : 8.12\n",
      "Diploma: 92.88%\n",
      "Technical Skills : C, C++, Basic of java, Basic of Linux, Python Bsics, R basics , assembly level language \n",
      "SSC : 89.60%\n"
     ]
    }
   ],
   "source": [
    "#1. Write a Python program to print your personal details on the output screen.\n",
    "\n",
    "print('''\n",
    "Name : Geetai P. Charde\n",
    "City : Amravati\n",
    "Branch : Electronics and Telecommunication\n",
    "College : Vishavakarma Institute of Technology, Pune\n",
    "SGPA : 8.12\n",
    "Diploma: 92.88%\n",
    "Technical Skills : C, C++, Basic of java, Basic of Linux, Python Bsics, R basics , assembly level language \n",
    "SSC : 89.60%''')"
   ]
  },
  {
   "cell_type": "code",
   "execution_count": 2,
   "id": "eb4e8206",
   "metadata": {},
   "outputs": [
    {
     "name": "stdout",
     "output_type": "stream",
     "text": [
      "Enter no1 : 2\n",
      "Enter no2 : 3\n",
      "Addition is :  5\n"
     ]
    }
   ],
   "source": [
    "#2. Write a Program to accept two numbers and display their sum.\n",
    "a = int(input(\"Enter no1 : \"))\n",
    "b = int(input(\"Enter no2 : \"))\n",
    "print(\"Addition is : \", a+b)"
   ]
  },
  {
   "cell_type": "code",
   "execution_count": 3,
   "id": "c5dc6b01",
   "metadata": {},
   "outputs": [
    {
     "name": "stdout",
     "output_type": "stream",
     "text": [
      "Enter side of square : 2\n",
      "Area of square :  4\n",
      "Perimeter of square :  8\n"
     ]
    }
   ],
   "source": [
    "#3.Write a Program to accept side of square and calculate area and perimeter of Square\n",
    "\n",
    "a=int(input(\"Enter side of square : \"))\n",
    "print(\"Area of square : \", a*a)\n",
    "print(\"Perimeter of square : \", 4*a)"
   ]
  },
  {
   "cell_type": "code",
   "execution_count": 7,
   "id": "35efafa9",
   "metadata": {},
   "outputs": [
    {
     "name": "stdout",
     "output_type": "stream",
     "text": [
      "Enter radius of circle : 2.1\n",
      "Area of Circle :  13.8474\n",
      "Perimeter of circle : 13.188\n"
     ]
    }
   ],
   "source": [
    "#4. Write a Program to accept radius of circle and calculate area and circumference of Circle\n",
    "\n",
    "a=float(input(\"Enter radius of circle : \"))\n",
    "print(\"Area of Circle : \", 3.14*a*a)\n",
    "print(\"Perimeter of circle :\", 2*3.14*a)"
   ]
  },
  {
   "cell_type": "code",
   "execution_count": 8,
   "id": "b631508c",
   "metadata": {},
   "outputs": [
    {
     "name": "stdout",
     "output_type": "stream",
     "text": [
      "Enter Principal amount :100\n",
      "Enter Rate of Interest :2\n",
      "Enter Time Period : 10\n",
      "Simple Interest is :  20.0\n"
     ]
    }
   ],
   "source": [
    "#5. Write a Program to calculate simple interest. Note: accept required information from user.\n",
    "\n",
    "P=float(input(\"Enter Principal amount :\"))\n",
    "R=float(input(\"Enter Rate of Interest :\"))\n",
    "T=int(input(\"Enter Time Period : \"))\n",
    "print(\"Simple Interest is : \", P*R*T/100)"
   ]
  },
  {
   "cell_type": "code",
   "execution_count": 12,
   "id": "48f7341d",
   "metadata": {},
   "outputs": [
    {
     "name": "stdout",
     "output_type": "stream",
     "text": [
      "Enter no1 : 10.5\n",
      "Enter no2 : 10.8\n",
      "Enter no3 : 10.2\n",
      "largest no. is :  10.8\n",
      "smallest no. is :  10.2\n"
     ]
    }
   ],
   "source": [
    "#6. Write a Program to accept 3 numbers and display smallest and largest number\n",
    "\n",
    "a = float(input(\"Enter no1 : \"))\n",
    "b = float(input(\"Enter no2 : \"))\n",
    "c = float(input(\"Enter no3 : \"))\n",
    "if (a>b) and  (a>c):\n",
    "     print(\"largest no. is : \", a)\n",
    "elif (b>a) and (b>c):\n",
    "    print(\"largest no. is : \", b)\n",
    "else:\n",
    "    print(\"largest no. is : \", c)\n",
    "    \n",
    "if (a<b) and  (a<c):\n",
    "     print(\"smallest no. is : \", a)\n",
    "elif (b<a) and (b<c):\n",
    "    print(\"smallest no. is : \", b)\n",
    "else:\n",
    "    print(\"smallest no. is : \", c)"
   ]
  },
  {
   "cell_type": "code",
   "execution_count": 12,
   "id": "a17a3a72",
   "metadata": {},
   "outputs": [
    {
     "name": "stdout",
     "output_type": "stream",
     "text": [
      "Enter value for a : 4\n",
      "Enter value for b : 2\n",
      "a+b : 6\n",
      "a-b : 2\n",
      "a*b : 8\n",
      "a/b : 2.0\n"
     ]
    }
   ],
   "source": [
    "#7. WAP to accept two numbers, and one of the following operators +, -, *, /. Perform the given operation and display result\n",
    "\n",
    "a = int(input(\"Enter value for a : \"))\n",
    "b = int(input(\"Enter value for b : \"))\n",
    "print(\"a+b :\",a+b)\n",
    "print(\"a-b :\",a-b)\n",
    "print(\"a*b :\",a*b)\n",
    "print(\"a/b :\",a/b)"
   ]
  },
  {
   "cell_type": "code",
   "execution_count": 1,
   "id": "1ba4d03d",
   "metadata": {},
   "outputs": [
    {
     "name": "stdout",
     "output_type": "stream",
     "text": [
      "Enter a number : 2\n",
      "Number is even\n"
     ]
    }
   ],
   "source": [
    "#8. Write a Program to accept a number and decide whether it is an odd or even number\n",
    "a = float(input(\"Enter a number : \"))\n",
    "if (a%2 == 0):\n",
    "    print(\"Number is even\")\n",
    "else:\n",
    "    print (\"Number is odd\")"
   ]
  },
  {
   "cell_type": "code",
   "execution_count": 1,
   "id": "d57adbdc",
   "metadata": {},
   "outputs": [
    {
     "name": "stdout",
     "output_type": "stream",
     "text": [
      "3.8.8 (default, Apr 13 2021, 15:08:03) [MSC v.1916 64 bit (AMD64)]\n"
     ]
    }
   ],
   "source": [
    "#9. Write a Python program to get the Python version you are using.\n",
    "import sys\n",
    "print(sys.version)"
   ]
  },
  {
   "cell_type": "code",
   "execution_count": 13,
   "id": "f74e4cdf",
   "metadata": {},
   "outputs": [
    {
     "name": "stdout",
     "output_type": "stream",
     "text": [
      "The examination will start from : 11 / 12/ 2018 \n"
     ]
    }
   ],
   "source": [
    "#10.Write a Python program to display the examination schedule. (extract the date from exam_st_date)\n",
    "# exam_st_date = (11, 12, 2018)\n",
    "# Sample Output : The examination will start from : 11 / 12 / 2018\n",
    "\n",
    "exam_st_date = (11, 12, 2018)\n",
    "print(\"The examination will start from : %i / %i/ %i \" %(exam_st_date))"
   ]
  },
  {
   "cell_type": "code",
   "execution_count": 38,
   "id": "61d95d59",
   "metadata": {},
   "outputs": [
    {
     "name": "stdout",
     "output_type": "stream",
     "text": [
      "Enter 3 digit number :368\n",
      "Orginal of no. : 368\n",
      "Reverse of no. : 863\n",
      "368 is not palindrome\n"
     ]
    }
   ],
   "source": [
    "#11. Write a Python program to check weather user inputted number is palindrome or not.\n",
    "\n",
    "no = int(input(\"Enter 3 digit number :\"))\n",
    "rev = 0\n",
    "rem = 0\n",
    "org = no \n",
    "\n",
    "while(no>0):\n",
    "    rem = no % 10\n",
    "    rev = rev *10 + rem\n",
    "    no = no // 10\n",
    "    \n",
    "print(\"Orginal of no. :\",org)\n",
    "print(\"Reverse of no. :\",rev)\n",
    "\n",
    "if (org == rev):\n",
    "    print(\"{} is palindrome\".format(org))\n",
    "else:\n",
    "    print(\"{} is not palindrome\".format(org))"
   ]
  },
  {
   "cell_type": "code",
   "execution_count": 32,
   "id": "774208b4",
   "metadata": {},
   "outputs": [
    {
     "name": "stdout",
     "output_type": "stream",
     "text": [
      "Enter a number : 3886152\n",
      "3886152 is Not prime\n"
     ]
    }
   ],
   "source": [
    "#12. Write a Python program to check weather user inputted number is prime or not.\n",
    "a = int(input(\"Enter a number : \"))\n",
    "st = 2\n",
    "end = a//2\n",
    "status = 0\n",
    "for x in range(st,end+1):\n",
    "    if(a % x == 0):\n",
    "        status = 1\n",
    "        break\n",
    "        \n",
    "if(status == 1):\n",
    "    print(\"{} is Not prime\".format(a))\n",
    "else:\n",
    "    print(\"{} is prime\".format(a))"
   ]
  },
  {
   "cell_type": "code",
   "execution_count": 41,
   "id": "74757030",
   "metadata": {},
   "outputs": [
    {
     "name": "stdout",
     "output_type": "stream",
     "text": [
      "Enter 3 digit number :153\n",
      "Orginal of no. : 153\n",
      "153 is Armstrong\n"
     ]
    }
   ],
   "source": [
    "#13. Write a Python program to check weather user inputted number is Armstrong or not.\n",
    "\n",
    "no = int(input(\"Enter 3 digit number :\"))\n",
    "rev = 0\n",
    "rem = 0\n",
    "org = no \n",
    "\n",
    "while(no>0):\n",
    "    rem = no % 10\n",
    "    rev = rev + rem ** 3\n",
    "    no = no // 10\n",
    "    \n",
    "print(\"Orginal of no. :\",org)\n",
    "\n",
    "if (org == rev):\n",
    "    print(\"{} is Armstrong\".format(org))\n",
    "else:\n",
    "    print(\"{} is not Armstrong\".format(org))"
   ]
  },
  {
   "cell_type": "code",
   "execution_count": 31,
   "id": "2942de4b",
   "metadata": {},
   "outputs": [
    {
     "name": "stdout",
     "output_type": "stream",
     "text": [
      "2002  2009  2016  2023  2037  2044  2051  2058  2072  2079  2086  2093  2107  2114  2121  2128  2142  2149  2156  2163  2177  2184  2191  2198  2212  2219  2226  2233  2247  2254  2261  2268  2282  2289  2296  2303  2317  2324  2331  2338  2352  2359  2366  2373  2387  2394  2401  2408  2422  2429  2436  2443  2457  2464  2471  2478  2492  2499  2506  2513  2527  2534  2541  2548  2562  2569  2576  2583  2597  2604  2611  2618  2632  2639  2646  2653  2667  2674  2681  2688  2702  2709  2716  2723  2737  2744  2751  2758  2772  2779  2786  2793  2807  2814  2821  2828  2842  2849  2856  2863  2877  2884  2891  2898  2912  2919  2926  2933  2947  2954  2961  2968  2982  2989  2996  3003  3017  3024  3031  3038  3052  3059  3066  3073  3087  3094  3101  3108  3122  3129  3136  3143  3157  3164  3171  3178  3192  3199  "
     ]
    }
   ],
   "source": [
    "#14. Write a program which will find all such numbers which are divisible by 7 but are not a multiple of 5, between 2000\n",
    "#and 3200 (both included).\n",
    "\n",
    "for x in range(2000,3200):\n",
    "    if(x%7==0) and (x%5)!=0:\n",
    "        print(x,end = \"  \")"
   ]
  },
  {
   "cell_type": "code",
   "execution_count": 27,
   "id": "0c2fc499",
   "metadata": {},
   "outputs": [
    {
     "name": "stdout",
     "output_type": "stream",
     "text": [
      "Enter a number : 5\n",
      "factorial of a given number is : 120\n"
     ]
    }
   ],
   "source": [
    "#15. Write a program, which can compute the factorial of a given numbers.\n",
    "\n",
    "a = int(input(\"Enter a number : \"))\n",
    "fact = 1\n",
    "while(a>0):\n",
    "    fact = fact*a\n",
    "    a = a-1\n",
    "print(\"factorial of a given number is :\",fact)\n",
    "    "
   ]
  },
  {
   "cell_type": "code",
   "execution_count": 59,
   "id": "037ed27f",
   "metadata": {},
   "outputs": [
    {
     "name": "stdout",
     "output_type": "stream",
     "text": [
      "Enter a letter: j\n",
      "\n",
      "It is not Vowel\n"
     ]
    }
   ],
   "source": [
    "#16. Write a Python program to test whether a passed letter is a vowel or not\n",
    "\n",
    "b=input(\"Enter a letter: \")\n",
    "if b=='a' or b=='e' or b=='i' or b=='o' or b=='u':\n",
    "    print(\"\\nIt is a Vowel\")\n",
    "elif b=='A' or b=='E' or b=='I' or b=='O' or b=='U':\n",
    "    print(\"\\nIt is a Vowel\")\n",
    "else:\n",
    "    print(\"\\nIt is not Vowel\")"
   ]
  },
  {
   "cell_type": "code",
   "execution_count": 1,
   "id": "16a3410e",
   "metadata": {},
   "outputs": [
    {
     "name": "stdout",
     "output_type": "stream",
     "text": [
      "Enter a letter: u\n",
      "Entered letter u is vowel\n"
     ]
    }
   ],
   "source": [
    "#16 OR\n",
    "\n",
    "b=input(\"Enter a letter: \")\n",
    "if b in 'aeiouAEIOU':\n",
    "    print(\"Entered letter {} is vowel\".format(b))\n",
    "else:\n",
    "    print(\"Entered letter {} is not vowel\".format(b))"
   ]
  },
  {
   "cell_type": "code",
   "execution_count": 53,
   "id": "b659ae07",
   "metadata": {},
   "outputs": [
    {
     "name": "stdout",
     "output_type": "stream",
     "text": [
      "Enter a name :Geetai\n",
      "Enter number of times you want to print :5\n",
      "Geetai Geetai Geetai Geetai Geetai "
     ]
    }
   ],
   "source": [
    "#17. Modify above program to accept name and number. Display name for given number of times\n",
    "a = input(\"Enter a name :\")\n",
    "b = int(input(\"Enter number of times you want to print :\"))\n",
    "i = 1\n",
    "while (i<=b):\n",
    "    print(a, end = \" \")\n",
    "    i = i+1"
   ]
  },
  {
   "cell_type": "code",
   "execution_count": 57,
   "id": "9d1f8f0d",
   "metadata": {},
   "outputs": [
    {
     "name": "stdout",
     "output_type": "stream",
     "text": [
      "Enter a name :Geetai \n",
      "Enter number of times you want to print :5\n",
      "Geetai Geetai Geetai Geetai Geetai \n"
     ]
    }
   ],
   "source": [
    "#17.OR\n",
    "a = input(\"Enter a name :\")\n",
    "b = int(input(\"Enter number of times you want to print :\"))\n",
    "print(a*b)"
   ]
  },
  {
   "cell_type": "code",
   "execution_count": 65,
   "id": "2ae1c0b9",
   "metadata": {},
   "outputs": [
    {
     "name": "stdout",
     "output_type": "stream",
     "text": [
      "Enter start of number 4\n",
      "Enter end of number 7\n",
      "4 5 6 7 "
     ]
    }
   ],
   "source": [
    "#18. Write an Program to accept two numbers from user and display all numbers between those numbers\n",
    "#Example: If user enters 3 and 9 program should display numbers 3,4,5,6,7,8 and 9\n",
    "\n",
    "a = int(input(\"Enter start of number \"))\n",
    "b = int(input(\"Enter end of number \"))\n",
    "for x in range(a,b+1):\n",
    "    print(x, end=\" \")"
   ]
  },
  {
   "cell_type": "code",
   "execution_count": null,
   "id": "be125d6c",
   "metadata": {},
   "outputs": [],
   "source": [
    "#19. Write a Program to display following pattern\n",
    "1\n",
    "22\n",
    "333\n",
    "4444\n",
    "55555\n",
    "666666\n",
    "7777777\n",
    "88888888\n",
    "999999999"
   ]
  },
  {
   "cell_type": "code",
   "execution_count": 71,
   "id": "b3aa5754",
   "metadata": {},
   "outputs": [
    {
     "name": "stdout",
     "output_type": "stream",
     "text": [
      "1\n",
      "22\n",
      "333\n",
      "4444\n",
      "55555\n",
      "666666\n",
      "7777777\n",
      "88888888\n",
      "999999999\n"
     ]
    }
   ],
   "source": [
    "for x in range(1,10):\n",
    "    for y in range (1,x+1):\n",
    "        print(x, end=\"\")\n",
    "    print()"
   ]
  },
  {
   "cell_type": "code",
   "execution_count": 72,
   "id": "8fa63711",
   "metadata": {},
   "outputs": [
    {
     "name": "stdout",
     "output_type": "stream",
     "text": [
      "Enter start of number 3\n",
      "Enter end of number 6\n",
      "333\n",
      "4444\n",
      "55555\n",
      "666666\n"
     ]
    }
   ],
   "source": [
    "#20. Modify above program to accept a number (between 1 to 9) from user and display above pattern accordingly\n",
    "\n",
    "a = int(input(\"Enter start of number \"))\n",
    "b = int(input(\"Enter end of number \"))\n",
    "\n",
    "for x in range(a,b+1):\n",
    "    for y in range (1,x+1):\n",
    "        print(x, end=\"\")\n",
    "    print()"
   ]
  },
  {
   "cell_type": "code",
   "execution_count": null,
   "id": "5e88d814",
   "metadata": {},
   "outputs": [],
   "source": [
    "#21. Write an Program to display following pattern\n",
    "111111111\n",
    "22222222\n",
    "3333333\n",
    "444444\n",
    "55555\n",
    "6666\n",
    "777\n",
    "88\n",
    "9"
   ]
  },
  {
   "cell_type": "code",
   "execution_count": 77,
   "id": "fc243ad2",
   "metadata": {},
   "outputs": [
    {
     "name": "stdout",
     "output_type": "stream",
     "text": [
      "111111111\n",
      "22222222\n",
      "3333333\n",
      "444444\n",
      "55555\n",
      "6666\n",
      "777\n",
      "88\n",
      "9\n"
     ]
    }
   ],
   "source": [
    "for x in range(1,10):\n",
    "    for y in range (9,x-1,-1):\n",
    "        print(x, end=\"\")\n",
    "    print()"
   ]
  },
  {
   "cell_type": "code",
   "execution_count": null,
   "id": "cbc09067",
   "metadata": {},
   "outputs": [],
   "source": [
    "#22.Write a Program to display following pattern\n",
    "*********\n",
    "********\n",
    "*******\n",
    "******\n",
    "****\n",
    "***\n",
    "**\n",
    "*"
   ]
  },
  {
   "cell_type": "code",
   "execution_count": 78,
   "id": "36ec4d68",
   "metadata": {},
   "outputs": [
    {
     "name": "stdout",
     "output_type": "stream",
     "text": [
      "*********\n",
      "********\n",
      "*******\n",
      "******\n",
      "*****\n",
      "****\n",
      "***\n",
      "**\n",
      "*\n"
     ]
    }
   ],
   "source": [
    "for x in range(1,10):\n",
    "    for y in range (9,x-1,-1):\n",
    "        print(\"*\", end=\"\")\n",
    "    print()"
   ]
  },
  {
   "cell_type": "code",
   "execution_count": null,
   "id": "39b12ae2",
   "metadata": {},
   "outputs": [],
   "source": [
    "#23. Write a Program to display following pattern\n",
    "Note: There are nine * in last line\n",
    "    *\n",
    "   ***\n",
    "  *****\n",
    " *******\n",
    "*********"
   ]
  },
  {
   "cell_type": "code",
   "execution_count": 2,
   "id": "ec6237e7",
   "metadata": {},
   "outputs": [
    {
     "name": "stdout",
     "output_type": "stream",
     "text": [
      "     *\n",
      "    ***\n",
      "   *****\n",
      "  *******\n",
      " *********\n"
     ]
    }
   ],
   "source": [
    "a = 1\n",
    "for x in range(5,0,-1):\n",
    "    for y in range (x,0,-1):\n",
    "        print(\" \", end=\"\")\n",
    "    print(\"*\" * a)\n",
    "    a += 2;"
   ]
  },
  {
   "cell_type": "code",
   "execution_count": null,
   "id": "5eea57ac",
   "metadata": {},
   "outputs": [],
   "source": [
    "#24. Write a Program to display following pattern\n",
    "*\n",
    "**\n",
    "***\n",
    "****\n",
    "*****\n",
    "******\n",
    "*******\n",
    "********\n",
    "*********"
   ]
  },
  {
   "cell_type": "code",
   "execution_count": 79,
   "id": "ab36518a",
   "metadata": {},
   "outputs": [
    {
     "name": "stdout",
     "output_type": "stream",
     "text": [
      "*\n",
      "**\n",
      "***\n",
      "****\n",
      "*****\n",
      "******\n",
      "*******\n",
      "********\n",
      "*********\n"
     ]
    }
   ],
   "source": [
    "for x in range(1,10):\n",
    "    for y in range (1,x+1):\n",
    "        print(\"*\", end=\"\")\n",
    "    print()"
   ]
  },
  {
   "cell_type": "code",
   "execution_count": null,
   "id": "02fe5b54",
   "metadata": {},
   "outputs": [],
   "source": [
    "#25. Write an Program to display following pattern\n",
    "111111111\n",
    "22222222\n",
    "3333333\n",
    "444444\n",
    "55555\n",
    "6666\n",
    "777\n",
    "88\n",
    "9\n",
    "88\n",
    "777\n",
    "6666\n",
    "55555\n",
    "444444\n",
    "3333333\n",
    "22222222\n",
    "111111111"
   ]
  },
  {
   "cell_type": "code",
   "execution_count": 8,
   "id": "3177b971",
   "metadata": {},
   "outputs": [
    {
     "name": "stdout",
     "output_type": "stream",
     "text": [
      "111111111\n",
      "22222222\n",
      "3333333\n",
      "444444\n",
      "55555\n",
      "6666\n",
      "777\n",
      "88\n",
      "9\n",
      "88\n",
      "777\n",
      "6666\n",
      "55555\n",
      "444444\n",
      "3333333\n",
      "22222222\n",
      "111111111\n"
     ]
    }
   ],
   "source": [
    "a=0\n",
    "for x in range(1,10):\n",
    "    for y in range (9,x-1,-1):\n",
    "        print(x, end=\"\")\n",
    "        a=x\n",
    "    print()\n",
    "\n",
    "for x in range(a-1,0,-1):\n",
    "    for y in range (0,10-x,1):\n",
    "        print(x, end=\"\")\n",
    "    print()"
   ]
  },
  {
   "cell_type": "code",
   "execution_count": 7,
   "id": "e1137bb9",
   "metadata": {},
   "outputs": [
    {
     "name": "stdout",
     "output_type": "stream",
     "text": [
      "10 \b, 9 \b, 8 \b, 7 \b, 6 \b, 5 \b, 4 \b, 3 \b, 2 \b, 1\n"
     ]
    }
   ],
   "source": [
    "#26. Write a Program to display numbers 10 to 1 in reverse order.\n",
    "#Note: Output should be 10, 9, 8, 7, ….., 2, 1\n",
    "\n",
    "for x in range(10,0,-1):\n",
    "    if x != 1:\n",
    "        print(x,\"\\b, \",end='')\n",
    "    else:\n",
    "        print(x)"
   ]
  },
  {
   "cell_type": "code",
   "execution_count": null,
   "id": "7d0bfc01",
   "metadata": {},
   "outputs": [],
   "source": [
    "#27. Write a Program to accept number and display its table.\n",
    "Note: If user enters 7 output should be as follows\n",
    "7 X 1 = 7\n",
    "7 X 2 = 14\n",
    "7 X 3 = 21\n",
    "7 X 4 = 28\n",
    "------------\n",
    "7 X 10 = 70"
   ]
  },
  {
   "cell_type": "code",
   "execution_count": 9,
   "id": "af8cf761",
   "metadata": {},
   "outputs": [
    {
     "name": "stdout",
     "output_type": "stream",
     "text": [
      "7 X 1 = 7\n",
      "7 X 2 = 14\n",
      "7 X 3 = 21\n",
      "7 X 4 = 28\n",
      "7 X 5 = 35\n",
      "7 X 6 = 42\n",
      "7 X 7 = 49\n",
      "7 X 8 = 56\n",
      "7 X 9 = 63\n",
      "7 X 10 = 70\n"
     ]
    }
   ],
   "source": [
    "for x in range(1,11):\n",
    "    print(\"7 X {} = {}\".format(x,x*7))"
   ]
  },
  {
   "cell_type": "code",
   "execution_count": null,
   "id": "adf60583",
   "metadata": {},
   "outputs": [],
   "source": [
    "#28. Write a Python program to print the following string in a specific format (see the output).\n",
    "Sample String= \"Twinkle, twinkle, little star, How I wonder what you are! Up above the world so high, Like a\n",
    "diamond in the sky. Twinkle, twinkle, little star, How I wonder what you are!\"\n",
    "Output:\n",
    "Twinkle, twinkle, little star,\n",
    "    How I wonder what you are!\n",
    "Up above the world so high,\n",
    "        Like a diamond in the sky.\n",
    "Twinkle, twinkle, little star,\n",
    "    How I wonder what you are!"
   ]
  },
  {
   "cell_type": "code",
   "execution_count": 1,
   "id": "d29a5003",
   "metadata": {},
   "outputs": [
    {
     "name": "stdout",
     "output_type": "stream",
     "text": [
      "Twinkle, twinkle, little star,\n",
      "\t How I wonder what you are! \n",
      " Up above the world so high, \n",
      "\t\t Like a diamond in the sky. \n",
      " Twinkle, twinkle, little star,\n",
      "\t How I wonder what you are!\n"
     ]
    }
   ],
   "source": [
    "string=\"Twinkle, twinkle, little star,\\n\\t How I wonder what you are! \\n Up above the world so high, \\n\\t\\t Like a diamond in the sky. \\n Twinkle, twinkle, little star,\\n\\t How I wonder what you are!\"\n",
    "print(string)"
   ]
  },
  {
   "cell_type": "code",
   "execution_count": 26,
   "id": "70ae368d",
   "metadata": {},
   "outputs": [
    {
     "name": "stdout",
     "output_type": "stream",
     "text": [
      "35 70 105 140 175 210 245 280 315 350 "
     ]
    }
   ],
   "source": [
    "#29. Write a Program to display 10 numbers that are divisible by 5 and 7\n",
    "for i in range(1,11):\n",
    "    print(5*7*i,end=\" \")\n"
   ]
  },
  {
   "cell_type": "code",
   "execution_count": 3,
   "id": "82a10d26",
   "metadata": {},
   "outputs": [
    {
     "name": "stdout",
     "output_type": "stream",
     "text": [
      "35 70 105 140 175 210 245 280 315 "
     ]
    }
   ],
   "source": [
    "#29. 0r\n",
    "\n",
    "counter = 1\n",
    "for x in range (1,500):\n",
    "    if(x%5==0 and x%7==0):\n",
    "        print (x,end=' ')\n",
    "        \n",
    "        counter = counter +1\n",
    "        if (counter==10):\n",
    "            break\n",
    "            \n",
    "    "
   ]
  },
  {
   "cell_type": "code",
   "execution_count": 8,
   "id": "fc0f6e1d",
   "metadata": {},
   "outputs": [
    {
     "name": "stdout",
     "output_type": "stream",
     "text": [
      "Name of the destination : Amravati\n",
      "Distance to destination (Km) : 4\n",
      "Speed per Kilometre (Km/hr) : 4\n",
      "Numbers of break in journey : 2\n",
      "Time per break (hrs) : 1\n",
      "time required to reached to given destination is(hrs.) : 3.0\n"
     ]
    }
   ],
   "source": [
    "#30. Write a program to calculate time reached to given destination. Accept following details from the user\n",
    "#a. Name of destination\n",
    "#b. Distance to destination\n",
    "#c. Speed per Kilometre\n",
    "#d. No of breaks in journey\n",
    "#e. Time per break\n",
    "\n",
    "a = input(\"Name of the destination : \")\n",
    "b = float(input(\"Distance to destination (Km) : \"))\n",
    "c = int(input(\"Speed per Kilometre (Km/hr) : \"))\n",
    "d = int(input(\"Numbers of break in journey : \"))\n",
    "e = int(input(\"Time per break (hrs) : \"))\n",
    "time = (b/c)+(d*e)\n",
    "print(\"time required to reached to given destination is(hrs.) :\",time)"
   ]
  },
  {
   "cell_type": "code",
   "execution_count": null,
   "id": "2c05e9ad",
   "metadata": {},
   "outputs": [],
   "source": [
    "#31. Take a list, say for example this one:\n",
    "a = [1, 1, 2, 3, 5, 8, 13, 21, 34, 55, 89]\n",
    "and write a program that prints out all the elements of the list that are less than 5.\n",
    "Extras:\n",
    "a. Instead of printing the elements one by one, make a new list that has all the elements less than 5 from this list\n",
    "in it and print out this new list.\n",
    "b. Write this in one line of Python.\n",
    "c. Ask the user for a number and return a list that contains only elements from the original list a that are smaller\n",
    "than that number given by the user."
   ]
  },
  {
   "cell_type": "code",
   "execution_count": 36,
   "id": "fbb1be6b",
   "metadata": {},
   "outputs": [
    {
     "name": "stdout",
     "output_type": "stream",
     "text": [
      "[1, 1, 2, 3]\n"
     ]
    }
   ],
   "source": [
    "#a. Instead of printing the elements one by one, make a new list that has all the elements less than 5 from this list\n",
    "#in it and print out this new list.\n",
    "\n",
    "a = [1, 1, 2, 3, 5, 8, 13, 21, 34, 55, 89]\n",
    "lst = []\n",
    "for x in (a):\n",
    "    if (x<5):\n",
    "        lst.append(x)\n",
    "print(lst)"
   ]
  },
  {
   "cell_type": "code",
   "execution_count": 37,
   "id": "08177075",
   "metadata": {},
   "outputs": [
    {
     "name": "stdout",
     "output_type": "stream",
     "text": [
      "[1, 1, 2, 3]\n"
     ]
    }
   ],
   "source": [
    "#b. Write this in one line of Python.\n",
    "\n",
    "a = [1, 1, 2, 3, 5, 8, 13, 21, 34, 55, 89]\n",
    "print([x for x in a if (x<5)])"
   ]
  },
  {
   "cell_type": "code",
   "execution_count": 39,
   "id": "03fd08e5",
   "metadata": {},
   "outputs": [
    {
     "name": "stdout",
     "output_type": "stream",
     "text": [
      "[1, 1, 2, 3, 5, 8, 13, 21, 34, 55, 89]\n",
      "Enter number from list : 13\n",
      "[1, 1, 2, 3, 5, 8]\n"
     ]
    }
   ],
   "source": [
    "#c. Ask the user for a number and return a list that contains only elements from the original list a that are smaller\n",
    "#than that number given by the user.\n",
    "\n",
    "a = [1, 1, 2, 3, 5, 8, 13, 21, 34, 55, 89]\n",
    "print(a)\n",
    "b = int(input(\"Enter number from list : \"))\n",
    "lst = []\n",
    "for x in (a):\n",
    "    if (x<b):\n",
    "        lst.append(x)\n",
    "print(lst)"
   ]
  },
  {
   "cell_type": "code",
   "execution_count": 1,
   "id": "d0aad530",
   "metadata": {},
   "outputs": [
    {
     "name": "stdout",
     "output_type": "stream",
     "text": [
      "Enter a String : anana\n",
      "Pali\n",
      " ndrom\n"
     ]
    }
   ],
   "source": [
    "#32. Ask the user for a string and print out whether this string is a palindrome or not. (A palindrome is a string that reads the same forwards and backwards.)\n",
    "\n",
    "s1 = input(\"Enter a String : \")\n",
    "if(s1 == s1[::-1]):\n",
    "    print(\"Palindrom\")\n",
    "else:\n",
    "    print(\"Not Palidrom\")"
   ]
  },
  {
   "cell_type": "code",
   "execution_count": 17,
   "id": "1ef61865",
   "metadata": {},
   "outputs": [
    {
     "name": "stdout",
     "output_type": "stream",
     "text": [
      "Enter numbers : 16\n",
      "Enter numbers : 15\n",
      "Enter numbers : 89\n",
      "Enter numbers : 65\n",
      "Enter numbers : 78\n",
      "Enter numbers : 25\n",
      "Enter numbers : 56\n",
      "Enter numbers : 32\n",
      "Enter numbers : 89\n",
      "Enter numbers : 78\n",
      "\n",
      "Entered list is :  [16, 15, 89, 65, 78, 25, 56, 32, 89, 78]\n",
      "\n",
      "Maximum number from list is : 89\n",
      "Minimun number from list is : 15\n"
     ]
    }
   ],
   "source": [
    "#33. Ask user to enter 10 elements in the list and find minimum and maximum of from the list\n",
    "lst = []\n",
    "for x in range(10):\n",
    "    no = int(input(\"Enter numbers : \"))\n",
    "    lst.append(no)\n",
    "print(\"\\nEntered list is : \",lst)\n",
    "\n",
    "print(\"\\nMaximum number from list is :\", max(lst))\n",
    "print(\"Minimun number from list is :\", min(lst))"
   ]
  },
  {
   "cell_type": "code",
   "execution_count": null,
   "id": "f067d112",
   "metadata": {},
   "outputs": [],
   "source": [
    "#34.Write a program to replace minimum element from the list by\n",
    "“maximum element+1” and display the result.\n",
    "For Eg :\n",
    "Input : l=[22,56,365,989,356]\n",
    "Output : l=[22,990,365,989,356]"
   ]
  },
  {
   "cell_type": "code",
   "execution_count": 56,
   "id": "bbedd46e",
   "metadata": {},
   "outputs": [
    {
     "name": "stdout",
     "output_type": "stream",
     "text": [
      "[22, 56, 365, 989, 356]\n",
      "Minimum :  22\n",
      "updated list is :  [990, 56, 365, 989, 356]\n"
     ]
    }
   ],
   "source": [
    "l = [22,56,365,989,356]\n",
    "print(l)\n",
    "print(\"Minimum : \",min(l))\n",
    "min_id = l.index(min(l))\n",
    "l[min_id] = max(l)+1\n",
    "print(\"updated list is : \",l)"
   ]
  },
  {
   "cell_type": "code",
   "execution_count": 44,
   "id": "964d7127",
   "metadata": {},
   "outputs": [
    {
     "name": "stdout",
     "output_type": "stream",
     "text": [
      "Enter numbers : 1\n",
      "Enter numbers : 2\n",
      "Enter numbers : 3\n",
      "Enter numbers : 4\n",
      "Enter numbers : 5\n",
      "Enter numbers : 6\n",
      "Enter numbers : 7\n",
      "Enter numbers : 8\n",
      "Enter numbers : 9\n",
      "Enter numbers : 10\n",
      "\n",
      "Entered list is :  [1, 2, 3, 4, 5, 6, 7, 8, 9, 10]\n",
      "Odd numbers from list [1, 3, 5, 7, 9]\n",
      "Even numbers from list [2, 4, 6, 8, 10]\n"
     ]
    }
   ],
   "source": [
    "#35.Ask user to enter 10 elements in the list and find even and odd from the list.\n",
    "lst = []\n",
    "for x in range(10):\n",
    "    no = int(input(\"Enter numbers : \"))\n",
    "    lst.append(no)\n",
    "print(\"\\nEntered list is : \",lst)\n",
    "\n",
    "a = []\n",
    "b = []\n",
    "for x in lst:\n",
    "    if(x%2!=0):\n",
    "        a.append(x)\n",
    "print(\"Odd numbers from list\",a)\n",
    "for x in lst:\n",
    "    if(x%2==0):\n",
    "        b.append(x)\n",
    "print(\"Even numbers from list\",b)"
   ]
  },
  {
   "cell_type": "code",
   "execution_count": 3,
   "id": "62e6ce50",
   "metadata": {},
   "outputs": [
    {
     "name": "stdout",
     "output_type": "stream",
     "text": [
      "Enter number : 5\n",
      "Enter number : 6\n",
      "Enter number : 7\n",
      "Enter number : 21\n",
      "Enter number : 23\n",
      "Enter number : 53\n",
      "Enter number : 71\n",
      "Enter number : 17\n",
      "Enter number : 6\n",
      "Enter number : 8\n",
      "\n",
      "Entered list is :  [5, 6, 7, 21, 23, 53, 71, 17, 6, 8]\n",
      "Prime number from list is : \n",
      "5 7 23 53 71 17 "
     ]
    }
   ],
   "source": [
    "#36.Ask user to enter 10 elements in the list and find prime number from the list.\n",
    "\n",
    "lst = []\n",
    "for x in range (10):\n",
    "    no = int(input(\"Enter number : \"))\n",
    "    lst.append(no)\n",
    "print(\"\\nEntered list is : \",lst)\n",
    "print(\"Prime number from list is : \")\n",
    "for i in range (len(lst)):\n",
    "    if (lst[i]>1):\n",
    "        flag = 0\n",
    "        for j in range (2,lst[i]//2,1):\n",
    "            if(lst[i]%j==0):\n",
    "                flag = 1\n",
    "                break \n",
    "    if (flag == 0):\n",
    "        print(lst[i],end = \" \")\n",
    "    \n",
    "        \n"
   ]
  },
  {
   "cell_type": "code",
   "execution_count": 1,
   "id": "3e58fca4",
   "metadata": {},
   "outputs": [
    {
     "name": "stdout",
     "output_type": "stream",
     "text": [
      "Enter number : 123\n",
      "Enter number : 153\n",
      "Enter number : 486\n",
      "Enter number : 759\n",
      "Enter number : 426\n",
      "Enter number : 343\n",
      "Enter number : 568\n",
      "Enter number : 235\n",
      "Enter number : 789\n",
      "Enter number : 654\n",
      "\n",
      "Entered list is :  [123, 153, 486, 759, 426, 343, 568, 235, 789, 654]\n",
      "\n",
      "Armstrong numbers from the list are : \n",
      "153\n"
     ]
    }
   ],
   "source": [
    "# 37.Ask user to enter 10 elements in the list and find all Armstrong numbers from the list.\n",
    "\n",
    "lst = []\n",
    "for x in range (10):\n",
    "    no = int(input(\"Enter number : \"))\n",
    "    lst.append(no)\n",
    "print(\"\\nEntered list is : \",lst)\n",
    "print()\n",
    "\n",
    "print (\"Armstrong numbers from the list are : \")\n",
    "for i in range (len(lst)):\n",
    "    rem = 0\n",
    "    rev = 0\n",
    "    temp = lst[i]\n",
    "    while(lst[i]>0):\n",
    "        rem = lst[i] % 10\n",
    "        rev = rev + rem ** 3\n",
    "        lst[i] //= 10\n",
    "        \n",
    "    if (rev==temp):\n",
    "        print(temp)"
   ]
  },
  {
   "cell_type": "code",
   "execution_count": 1,
   "id": "3c9d4216",
   "metadata": {},
   "outputs": [
    {
     "name": "stdout",
     "output_type": "stream",
     "text": [
      "enter the element :1\n",
      "enter the element :2\n",
      "enter the element :3\n",
      "enter the element :4\n",
      "enter the element :5\n",
      "First list is : \n",
      "[1, 2, 3, 4, 5]\n",
      "\n",
      "enter the element :153\n",
      "enter the element :121\n",
      "enter the element :343\n",
      "enter the element :789\n",
      "enter the element :456\n",
      "Second list is : \n",
      "[121, 343]\n",
      "\n",
      "enter the element :153\n",
      "enter the element :121\n",
      "enter the element :343\n",
      "enter the element :897\n",
      "enter the element :456\n",
      "Third list is : \n",
      "[153]\n"
     ]
    }
   ],
   "source": [
    "#38.Write a program to create 3 list and restrict the user to insert only prime number in first_list, only palindrome number\n",
    "#in second_list, only Armstrong number in third_list.\n",
    "prime = []\n",
    "for x in range (5):\n",
    "    ele = int(input(\"enter the element :\"))\n",
    "    flag = 0\n",
    "    for h in range (2,ele//2,1):\n",
    "        if(ele % h == 0):\n",
    "            flag = 1\n",
    "            break\n",
    "    if (flag == 0):\n",
    "         prime.append(ele)\n",
    "            \n",
    "print (\"First list is : \")\n",
    "print(prime)\n",
    "print()\n",
    "\n",
    "palindrome = []\n",
    "for x in range (5):\n",
    "    ele = ele = int(input(\"enter the element :\"))\n",
    "    rem = 0\n",
    "    rev = 0\n",
    "    temp = ele\n",
    "    while (temp>0):\n",
    "        rem = temp % 10\n",
    "        rev = rev * 10 + rem\n",
    "        temp//=10\n",
    "        \n",
    "    if (rev==ele):\n",
    "        palindrome.append(ele)\n",
    "        \n",
    "print (\"Second list is : \")\n",
    "print(palindrome)\n",
    "print()\n",
    "\n",
    "\n",
    "armstrong = []\n",
    "for x in range (5):\n",
    "    ele = ele = int(input(\"enter the element :\"))\n",
    "    rem = 0\n",
    "    rev = 0\n",
    "    temp = ele\n",
    "    while(temp>0):\n",
    "        rem = temp % 10\n",
    "        rev = rev + rem ** 3\n",
    "        temp //= 10\n",
    "        \n",
    "    if(rev==ele):\n",
    "        armstrong.append(ele) \n",
    "        \n",
    "print (\"Third list is : \")\n",
    "print (armstrong)"
   ]
  },
  {
   "cell_type": "code",
   "execution_count": null,
   "id": "f68415b9",
   "metadata": {},
   "outputs": [],
   "source": [
    "#39.With a given integral number n, write a program to generate a dictionary that contains (i, i*i) such that is an integral\n",
    "number between 1 and n (both included). and then the program should print the dictionary.\n",
    "Suppose the following input is supplied to the program:\n",
    "8\n",
    "Then, the output should be:\n",
    "{1: 1, 2: 4, 3: 9, 4: 16, 5: 25, 6: 36, 7: 49, 8: 64}"
   ]
  },
  {
   "cell_type": "code",
   "execution_count": 6,
   "id": "554fa489",
   "metadata": {},
   "outputs": [
    {
     "name": "stdout",
     "output_type": "stream",
     "text": [
      "enter number of element in dict : 8\n",
      "{1: 1, 2: 4, 3: 9, 4: 16, 5: 25, 6: 36, 7: 49, 8: 64}\n"
     ]
    }
   ],
   "source": [
    "n=int(input(\"enter number of element in dict : \"))\n",
    "D_new={}\n",
    "for x in range(1,n+1):\n",
    "    D_new[x] = x*x\n",
    "    # D_new[x] = x**2\n",
    "print(D_new)"
   ]
  },
  {
   "cell_type": "code",
   "execution_count": null,
   "id": "35d05e67",
   "metadata": {},
   "outputs": [],
   "source": [
    "#40.Write a program which accepts a sequence of comma-separated numbers from console and generate a list and a tuple\n",
    "which contains every number.\n",
    "Suppose the following input is supplied to the program:\n",
    "34,67,55,33,12,98\n",
    "Then, the output should be:\n",
    "['34', '67', '55', '33', '12', '98']\n",
    "('34', '67', '55', '33', '12', '98')"
   ]
  },
  {
   "cell_type": "code",
   "execution_count": 4,
   "id": "f475ef59",
   "metadata": {},
   "outputs": [
    {
     "name": "stdout",
     "output_type": "stream",
     "text": [
      "Enter sequence of number seperated by comma(,) : 34,67,55,33,12,98\n",
      "List :  ['34', '67', '55', '33', '12', '98']\n",
      "Tuple :  ('34', '67', '55', '33', '12', '98')\n"
     ]
    }
   ],
   "source": [
    "values =(input(\"Enter sequence of number seperated by comma(,) : \"))\n",
    "list = values.split(\",\")\n",
    "tuple = tuple(list)\n",
    "print('List : ',list)\n",
    "print('Tuple : ',tuple)"
   ]
  },
  {
   "cell_type": "code",
   "execution_count": null,
   "id": "47d930ee",
   "metadata": {},
   "outputs": [],
   "source": [
    "lst = []\n",
    "for x in range (6):\n",
    "    no=input(\"Enter no :\")\n",
    "    lst.append(no)\n",
    "\n",
    "print(lst)\n",
    "print"
   ]
  },
  {
   "cell_type": "code",
   "execution_count": 3,
   "id": "c490acf7",
   "metadata": {},
   "outputs": [
    {
     "name": "stdout",
     "output_type": "stream",
     "text": [
      "Enter number between 1-12 : 12\n",
      "December\n"
     ]
    }
   ],
   "source": [
    "#41.Write a Program to accept a number between 1 to 12 and display corresponding month.\n",
    "\n",
    "d = {1:\"January\",2:\"February\",3:\"March\",4:\"April\",5:\"May\",6:\"June\",7:\"July\",8:\"August\",9:\"September\",10:\"October\",11:\"november\",12:\"December\"}\n",
    "a = int(input(\"Enter number between 1-12 : \"))\n",
    "print(d[a])\n",
    "        "
   ]
  },
  {
   "cell_type": "code",
   "execution_count": null,
   "id": "5b1a8351",
   "metadata": {},
   "outputs": [],
   "source": [
    "#42.Write a program to display minimum denominations for a given value.\n",
    "Note: Consider denominations of 500, 100, 50, 20, 10, 5, 2, 1\n",
    "Example: 1488 = (500 * 2) + (100 * 4) + (50 * 1) + (20 * 1) + (10 * 1) + (5 * 1) + (2 * 1) + (1 * 1)"
   ]
  },
  {
   "cell_type": "code",
   "execution_count": null,
   "id": "fb3d4828",
   "metadata": {},
   "outputs": [],
   "source": [
    "no = 1488\n",
    "c500 = c100 = c50 = c20 = c10 = c5 = c2 = c1 = 0\n"
   ]
  },
  {
   "cell_type": "code",
   "execution_count": 1,
   "id": "8cca4a25",
   "metadata": {},
   "outputs": [
    {
     "name": "stdout",
     "output_type": "stream",
     "text": [
      "Enter start number : 0\n",
      "Enter end number : 10\n",
      "0 1 2 3 4 5 6 7 8 9 10 "
     ]
    }
   ],
   "source": [
    "#43. Write a program to accept two numbers from user and display all numbers between those numbers\n",
    "#Example: If user enters 3 and 9 program should display numbers 3,4,5,6,7,8 and 9\n",
    "\n",
    "a = int(input(\"Enter start number : \"))\n",
    "b = int(input(\"Enter end number : \"))\n",
    "for i in range (a,b+1):\n",
    "    print (i, end = \" \")"
   ]
  },
  {
   "cell_type": "code",
   "execution_count": 14,
   "id": "622c56ae",
   "metadata": {},
   "outputs": [
    {
     "name": "stdout",
     "output_type": "stream",
     "text": [
      "Enter start number : 3\n",
      "Enter end number : 7\n",
      "4 X 1 = 4 \n",
      "4 X 2 = 8 \n",
      "4 X 3 = 12 \n",
      "4 X 4 = 16 \n",
      "4 X 5 = 20 \n",
      "4 X 6 = 24 \n",
      "4 X 7 = 28 \n",
      "4 X 8 = 32 \n",
      "4 X 9 = 36 \n",
      "4 X 10 = 40 \n",
      "\n",
      "5 X 1 = 5 \n",
      "5 X 2 = 10 \n",
      "5 X 3 = 15 \n",
      "5 X 4 = 20 \n",
      "5 X 5 = 25 \n",
      "5 X 6 = 30 \n",
      "5 X 7 = 35 \n",
      "5 X 8 = 40 \n",
      "5 X 9 = 45 \n",
      "5 X 10 = 50 \n",
      "\n",
      "6 X 1 = 6 \n",
      "6 X 2 = 12 \n",
      "6 X 3 = 18 \n",
      "6 X 4 = 24 \n",
      "6 X 5 = 30 \n",
      "6 X 6 = 36 \n",
      "6 X 7 = 42 \n",
      "6 X 8 = 48 \n",
      "6 X 9 = 54 \n",
      "6 X 10 = 60 \n",
      "\n"
     ]
    }
   ],
   "source": [
    "#44. Modify above program to accept two numbers and display table of numbers between them.\n",
    "#Note: If user enters 3 and 7. Display table of 4,5 and 6\n",
    " \n",
    "a = int(input(\"Enter start number : \"))\n",
    "b = int(input(\"Enter end number : \"))\n",
    "\n",
    "for i in range (a+1,b):\n",
    "    for x in range (1,11):\n",
    "        t = i*x\n",
    "        print(\"{} X {} = {} \".format(i,x,t))\n",
    "    print()"
   ]
  },
  {
   "cell_type": "code",
   "execution_count": 47,
   "id": "09deebf2",
   "metadata": {},
   "outputs": [
    {
     "name": "stdout",
     "output_type": "stream",
     "text": [
      "35 70 105 140 175 210 245 280 315 350 "
     ]
    }
   ],
   "source": [
    "#45. Write a program to display 10 numbers that are divisible by 5 and 7\n",
    "\n",
    "for i in range(1,11):\n",
    "    print(5*7*i,end=\" \")"
   ]
  },
  {
   "cell_type": "code",
   "execution_count": 8,
   "id": "2969cf0c",
   "metadata": {},
   "outputs": [
    {
     "name": "stdout",
     "output_type": "stream",
     "text": [
      "Enter 1st number : 1\n",
      "Enter 2nd number : 20\n",
      "All numbers divisible by 3 are :  [3, 6, 9, 12, 15, 18]\n"
     ]
    }
   ],
   "source": [
    "#46. Modify above Program to accept two numbers from user and display all numbers between them that are divisible by 3\n",
    "a = int(input(\"Enter 1st number : \"))\n",
    "b = int(input(\"Enter 2nd number : \"))\n",
    "lst = []\n",
    "for x in range (a,b+1):\n",
    "    if (x%3==0):\n",
    "        lst.append(x)\n",
    "print(\"All numbers divisible by 3 are : \",lst)"
   ]
  },
  {
   "cell_type": "code",
   "execution_count": 6,
   "id": "eb2b4acf",
   "metadata": {},
   "outputs": [
    {
     "name": "stdout",
     "output_type": "stream",
     "text": [
      "Enter number : 78\n",
      "Enter number : 45\n",
      "Enter number : 12\n",
      "Enter number : 89\n",
      "Enter number : 56\n",
      "Enter number : 23\n",
      "Enter number : 79\n",
      "Enter number : 46\n",
      "Enter number : 13\n",
      "Enter number : 37\n",
      "Entered numbers are :  [78, 45, 12, 89, 56, 23, 79, 46, 13, 37]\n",
      "Ascending order is :  [12, 13, 23, 37, 45, 46, 56, 78, 79, 89]\n",
      "Decending order is : [89, 79, 78, 56, 46, 45, 37, 23, 13, 12]\n"
     ]
    }
   ],
   "source": [
    "#47. Write a program to accept 10 numbers and display in ascending and descending order. Also display the same\n",
    "#numbers in descending order.\n",
    "lst = []\n",
    "for a in range(10):\n",
    "    a = int(input(\"Enter number : \"))\n",
    "    lst.append(a)\n",
    "print(\"Entered numbers are : \",lst)\n",
    "lst.sort(reverse=False)\n",
    "print(\"Ascending order is : \",lst)\n",
    "print(\"Decending order is :\", lst[::-1])   \n"
   ]
  },
  {
   "cell_type": "code",
   "execution_count": 14,
   "id": "1254fe5f",
   "metadata": {},
   "outputs": [
    {
     "name": "stdout",
     "output_type": "stream",
     "text": [
      "Enter string : Geetai \n",
      "Enter single character : e\n",
      "Total occurance of entered character in string is :  2\n"
     ]
    }
   ],
   "source": [
    "#48. Write a Program to accept string from user and a single character. Display how many times given character occurs in a\n",
    "#given string\n",
    "\n",
    "s1 = input(\"Enter string : \")\n",
    "a = input(\"Enter single character : \")\n",
    "count = 0\n",
    "for x in s1:\n",
    "    if (x==a):\n",
    "        count = count + 1\n",
    "print(\"Total occurance of entered character in string is : \", count)\n",
    "    "
   ]
  },
  {
   "cell_type": "code",
   "execution_count": 46,
   "id": "66c9c057",
   "metadata": {},
   "outputs": [
    {
     "name": "stdout",
     "output_type": "stream",
     "text": [
      "Enter a String : civic\n",
      "Palindrom\n"
     ]
    }
   ],
   "source": [
    "#49. Write a Program to accept a string and display whether it is a Palindrome.\n",
    "\n",
    "s1 = input(\"Enter a String : \")\n",
    "if(s1 == s1[::-1]):\n",
    "    print(\"Palindrom\")\n",
    "else:\n",
    "    print(\"Not Palidrom\")"
   ]
  },
  {
   "cell_type": "code",
   "execution_count": 2,
   "id": "0a9daa73",
   "metadata": {},
   "outputs": [
    {
     "name": "stdout",
     "output_type": "stream",
     "text": [
      "Enter number between 0 to 20 : 5\n",
      "Five\n"
     ]
    }
   ],
   "source": [
    "#50. Write a Program to accept number between 0 to 20 and display in words\n",
    "#Example: If user enters 8 output should be “Eight”\n",
    "\n",
    "a = int(input(\"Enter number between 0 to 20 : \"))\n",
    "d = {1:\"One\",2:\"Two\",3:\"Three\",4:\"Four\",5:\"Five\",6:\"Six\",7:\"Seven\",8:\"Eight\",9:\"Nine\",10:\"Ten\",11:\"Eleven\",12:\"Twelve\",13:\"Thirteen\",14:\"Fourteen\",15:\"Fifteen\",16:\"Sixteen\",17:\"Seventeen\",18:\"Eighteen\",19:\"Ninteen\",20:\"Twenty\"}\n",
    "print(d[a])"
   ]
  },
  {
   "cell_type": "code",
   "execution_count": null,
   "id": "5c365e87",
   "metadata": {},
   "outputs": [],
   "source": []
  },
  {
   "cell_type": "code",
   "execution_count": null,
   "id": "04ee6ee3",
   "metadata": {},
   "outputs": [],
   "source": []
  }
 ],
 "metadata": {
  "kernelspec": {
   "display_name": "Python 3 (ipykernel)",
   "language": "python",
   "name": "python3"
  },
  "language_info": {
   "codemirror_mode": {
    "name": "ipython",
    "version": 3
   },
   "file_extension": ".py",
   "mimetype": "text/x-python",
   "name": "python",
   "nbconvert_exporter": "python",
   "pygments_lexer": "ipython3",
   "version": "3.8.8"
  }
 },
 "nbformat": 4,
 "nbformat_minor": 5
}
